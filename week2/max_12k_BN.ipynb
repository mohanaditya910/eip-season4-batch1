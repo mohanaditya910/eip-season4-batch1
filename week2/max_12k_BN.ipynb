{
  "nbformat": 4,
  "nbformat_minor": 0,
  "metadata": {
    "colab": {
      "name": "max-12k-BN.ipynb",
      "provenance": [],
      "include_colab_link": true
    },
    "kernelspec": {
      "name": "python3",
      "display_name": "Python 3"
    },
    "accelerator": "GPU"
  },
  "cells": [
    {
      "cell_type": "markdown",
      "metadata": {
        "id": "view-in-github",
        "colab_type": "text"
      },
      "source": [
        "<a href=\"https://colab.research.google.com/github/mohanaditya910/eip-season4-batch1/blob/master/week2/max_12k_BN.ipynb\" target=\"_parent\"><img src=\"https://colab.research.google.com/assets/colab-badge.svg\" alt=\"Open In Colab\"/></a>"
      ]
    },
    {
      "cell_type": "code",
      "metadata": {
        "id": "ofGY2MPRbLXS",
        "colab_type": "code",
        "colab": {}
      },
      "source": [
        "import numpy as np\n",
        "from keras.utils import np_utils\n",
        "from keras.datasets import mnist\n",
        "\n",
        "(X_train, y_train), (X_test, y_test) = mnist.load_data()\n",
        "\n",
        "X_train = X_train.reshape(X_train.shape[0], 28, 28,1)\n",
        "X_test = X_test.reshape(X_test.shape[0], 28, 28,1)\n",
        "\n",
        "#image standardization........\n",
        "X_train = X_train.astype('float32')\n",
        "X_test = X_test.astype('float32')\n",
        "X_train /= 255\n",
        "X_test /= 255\n",
        "\n",
        "#image normalization................\n",
        "X_train=(X_train-np.mean(X_train))/np.std(X_train)\n",
        "X_test=(X_test-np.mean(X_test))/np.std(X_test)\n",
        "\n",
        "# Convert 1-dimensional class arrays to 10-dimensional class matrices\n",
        "Y_train = np_utils.to_categorical(y_train, 10)\n",
        "Y_test = np_utils.to_categorical(y_test, 10)"
      ],
      "execution_count": 0,
      "outputs": []
    },
    {
      "cell_type": "code",
      "metadata": {
        "id": "l6-lpMYkcb7j",
        "colab_type": "code",
        "colab": {}
      },
      "source": [
        "#praying to the heavenly gods........................\n",
        "from keras.models import Sequential\n",
        "from keras.layers import Conv2D,MaxPooling2D,BatchNormalization,Flatten,Activation\n",
        "from keras.optimizers import Adam"
      ],
      "execution_count": 0,
      "outputs": []
    },
    {
      "cell_type": "code",
      "metadata": {
        "id": "SNFtYEIVbrz5",
        "colab_type": "code",
        "colab": {}
      },
      "source": [
        "def skeleton(input_shape,num_classes,n_c_factor_3,n_c_1,layers_in_block):\n",
        "\n",
        "  model=Sequential()\n",
        "  for i in range(layers_in_block):\n",
        "    if i==0:\n",
        "      model.add(Conv2D(((i+1)*n_c_factor_3),kernel_size=3,input_shape=(28,28,1),activation='relu',use_bias=False))\n",
        "      model.add(BatchNormalization())\n",
        "    else:\n",
        "      model.add(Conv2D(((i+1)*n_c_factor_3),kernel_size=3,activation='relu',use_bias=False))\n",
        "      model.add(BatchNormalization())\n",
        "\n",
        "  model.add(MaxPooling2D(pool_size=(2,2),strides=2))\n",
        "  model.add(Conv2D(filters=n_c_1,kernel_size=1,activation='relu',use_bias=False))\n",
        "  model.add(BatchNormalization())\n",
        "\n",
        "  for i in range(layers_in_block):\n",
        "    model.add(Conv2D(((i+1)*n_c_factor_3),kernel_size=3,activation='relu',use_bias=False))\n",
        "    model.add(BatchNormalization())\n",
        "\n",
        "  #no maxpooling\n",
        "  model.add(Conv2D(filters=num_classes,kernel_size=1,activation='relu',use_bias=False))\n",
        "  #activation is avoided.\n",
        "  model.add(Conv2D(filters=num_classes,kernel_size=3,use_bias=False))\n",
        "  model.add(Conv2D(filters=num_classes,kernel_size=3,use_bias=False))\n",
        "  ##\n",
        "\n",
        "  model.add(Flatten())\n",
        "  model.add(Activation('softmax'))\n",
        "\n",
        "  return model"
      ],
      "execution_count": 0,
      "outputs": []
    },
    {
      "cell_type": "code",
      "metadata": {
        "id": "PovPK_A8b4yb",
        "colab_type": "code",
        "colab": {
          "base_uri": "https://localhost:8080/",
          "height": 851
        },
        "outputId": "93f0ac8d-51ca-4aee-bc83-cc40e8c00a97"
      },
      "source": [
        "input_shape=(28,28,1)\n",
        "num_classes=10\n",
        "layers_in_block=3\n",
        "\n",
        "\n",
        "n_c_factor_3=8\n",
        "n_c_1=8\n",
        "opt=Adam(lr=0.003)\n",
        "\n",
        "\n",
        "model=skeleton(input_shape,num_classes,n_c_factor_3,n_c_1,layers_in_block)\n",
        "\n",
        "model.compile(loss='categorical_crossentropy',\n",
        "              optimizer=opt,\n",
        "              metrics=['accuracy'])\n",
        "\n",
        "model.summary()\n",
        "  \n",
        "\n",
        "  "
      ],
      "execution_count": 22,
      "outputs": [
        {
          "output_type": "stream",
          "text": [
            "Model: \"sequential_4\"\n",
            "_________________________________________________________________\n",
            "Layer (type)                 Output Shape              Param #   \n",
            "=================================================================\n",
            "conv2d_24 (Conv2D)           (None, 26, 26, 8)         72        \n",
            "_________________________________________________________________\n",
            "batch_normalization_18 (Batc (None, 26, 26, 8)         32        \n",
            "_________________________________________________________________\n",
            "conv2d_25 (Conv2D)           (None, 24, 24, 16)        1152      \n",
            "_________________________________________________________________\n",
            "batch_normalization_19 (Batc (None, 24, 24, 16)        64        \n",
            "_________________________________________________________________\n",
            "conv2d_26 (Conv2D)           (None, 22, 22, 24)        3456      \n",
            "_________________________________________________________________\n",
            "batch_normalization_20 (Batc (None, 22, 22, 24)        96        \n",
            "_________________________________________________________________\n",
            "max_pooling2d_3 (MaxPooling2 (None, 11, 11, 24)        0         \n",
            "_________________________________________________________________\n",
            "conv2d_27 (Conv2D)           (None, 11, 11, 8)         192       \n",
            "_________________________________________________________________\n",
            "batch_normalization_21 (Batc (None, 11, 11, 8)         32        \n",
            "_________________________________________________________________\n",
            "conv2d_28 (Conv2D)           (None, 9, 9, 8)           576       \n",
            "_________________________________________________________________\n",
            "batch_normalization_22 (Batc (None, 9, 9, 8)           32        \n",
            "_________________________________________________________________\n",
            "conv2d_29 (Conv2D)           (None, 7, 7, 16)          1152      \n",
            "_________________________________________________________________\n",
            "batch_normalization_23 (Batc (None, 7, 7, 16)          64        \n",
            "_________________________________________________________________\n",
            "conv2d_30 (Conv2D)           (None, 5, 5, 24)          3456      \n",
            "_________________________________________________________________\n",
            "batch_normalization_24 (Batc (None, 5, 5, 24)          96        \n",
            "_________________________________________________________________\n",
            "conv2d_31 (Conv2D)           (None, 5, 5, 10)          240       \n",
            "_________________________________________________________________\n",
            "conv2d_32 (Conv2D)           (None, 3, 3, 10)          900       \n",
            "_________________________________________________________________\n",
            "conv2d_33 (Conv2D)           (None, 1, 1, 10)          900       \n",
            "_________________________________________________________________\n",
            "flatten_3 (Flatten)          (None, 10)                0         \n",
            "_________________________________________________________________\n",
            "activation_3 (Activation)    (None, 10)                0         \n",
            "=================================================================\n",
            "Total params: 12,512\n",
            "Trainable params: 12,304\n",
            "Non-trainable params: 208\n",
            "_________________________________________________________________\n"
          ],
          "name": "stdout"
        }
      ]
    },
    {
      "cell_type": "code",
      "metadata": {
        "id": "z0DsNZqBcniU",
        "colab_type": "code",
        "colab": {
          "base_uri": "https://localhost:8080/",
          "height": 729
        },
        "outputId": "9469737f-f8a6-436a-929a-b2a966e86a36"
      },
      "source": [
        "history=model.fit(X_train, Y_train, batch_size=32, epochs=20, verbose=1,validation_data=(X_test, Y_test))"
      ],
      "execution_count": 23,
      "outputs": [
        {
          "output_type": "stream",
          "text": [
            "Train on 60000 samples, validate on 10000 samples\n",
            "Epoch 1/20\n",
            "60000/60000 [==============================] - 37s 615us/step - loss: 0.1688 - acc: 0.9456 - val_loss: 0.1186 - val_acc: 0.9654\n",
            "Epoch 2/20\n",
            "60000/60000 [==============================] - 35s 577us/step - loss: 0.0710 - acc: 0.9785 - val_loss: 0.0566 - val_acc: 0.9825\n",
            "Epoch 3/20\n",
            "60000/60000 [==============================] - 36s 594us/step - loss: 0.0575 - acc: 0.9825 - val_loss: 0.0494 - val_acc: 0.9845\n",
            "Epoch 4/20\n",
            "60000/60000 [==============================] - 37s 618us/step - loss: 0.0495 - acc: 0.9842 - val_loss: 0.0482 - val_acc: 0.9855\n",
            "Epoch 5/20\n",
            "60000/60000 [==============================] - 36s 602us/step - loss: 0.0449 - acc: 0.9863 - val_loss: 0.0398 - val_acc: 0.9872\n",
            "Epoch 6/20\n",
            "60000/60000 [==============================] - 36s 594us/step - loss: 0.0395 - acc: 0.9878 - val_loss: 0.0420 - val_acc: 0.9873\n",
            "Epoch 7/20\n",
            "60000/60000 [==============================] - 36s 595us/step - loss: 0.0361 - acc: 0.9887 - val_loss: 0.0350 - val_acc: 0.9895\n",
            "Epoch 8/20\n",
            "60000/60000 [==============================] - 36s 593us/step - loss: 0.0353 - acc: 0.9891 - val_loss: 0.0302 - val_acc: 0.9891\n",
            "Epoch 9/20\n",
            "60000/60000 [==============================] - 37s 614us/step - loss: 0.0326 - acc: 0.9903 - val_loss: 0.0299 - val_acc: 0.9914\n",
            "Epoch 10/20\n",
            "60000/60000 [==============================] - 36s 601us/step - loss: 0.0301 - acc: 0.9903 - val_loss: 0.0362 - val_acc: 0.9889\n",
            "Epoch 11/20\n",
            "60000/60000 [==============================] - 36s 598us/step - loss: 0.0285 - acc: 0.9909 - val_loss: 0.0500 - val_acc: 0.9853\n",
            "Epoch 12/20\n",
            "60000/60000 [==============================] - 36s 599us/step - loss: 0.0268 - acc: 0.9916 - val_loss: 0.0257 - val_acc: 0.9918\n",
            "Epoch 13/20\n",
            "60000/60000 [==============================] - 35s 584us/step - loss: 0.0243 - acc: 0.9925 - val_loss: 0.0365 - val_acc: 0.9897\n",
            "Epoch 14/20\n",
            "60000/60000 [==============================] - 38s 631us/step - loss: 0.0250 - acc: 0.9921 - val_loss: 0.0317 - val_acc: 0.9905\n",
            "Epoch 15/20\n",
            "60000/60000 [==============================] - 36s 595us/step - loss: 0.0234 - acc: 0.9927 - val_loss: 0.0367 - val_acc: 0.9893\n",
            "Epoch 16/20\n",
            "60000/60000 [==============================] - 36s 598us/step - loss: 0.0218 - acc: 0.9932 - val_loss: 0.0396 - val_acc: 0.9874\n",
            "Epoch 17/20\n",
            "60000/60000 [==============================] - 36s 596us/step - loss: 0.0227 - acc: 0.9927 - val_loss: 0.0325 - val_acc: 0.9907\n",
            "Epoch 18/20\n",
            "60000/60000 [==============================] - 36s 592us/step - loss: 0.0213 - acc: 0.9933 - val_loss: 0.0353 - val_acc: 0.9899\n",
            "Epoch 19/20\n",
            "60000/60000 [==============================] - 35s 591us/step - loss: 0.0202 - acc: 0.9939 - val_loss: 0.0352 - val_acc: 0.9907\n",
            "Epoch 20/20\n",
            "60000/60000 [==============================] - 36s 598us/step - loss: 0.0201 - acc: 0.9934 - val_loss: 0.0259 - val_acc: 0.9923\n"
          ],
          "name": "stdout"
        }
      ]
    },
    {
      "cell_type": "code",
      "metadata": {
        "id": "7_Q9E32sb-9y",
        "colab_type": "code",
        "colab": {
          "base_uri": "https://localhost:8080/",
          "height": 279
        },
        "outputId": "9d98591c-c9e2-408c-8bb6-fe2b807ecb2d"
      },
      "source": [
        "import matplotlib.pyplot as plt\n",
        "acc=history.history['acc']\n",
        "val_acc=history.history['val_acc']\n",
        "loss=history.history['loss']\n",
        "val_loss=history.history['val_loss']\n",
        "\n",
        "epochs=range(1,len(acc)+1)\n",
        "\n",
        "plt.plot(epochs,acc,'b',label='Train_acc')\n",
        "plt.plot(epochs,val_acc,'g',label='Val_acc')\n",
        "plt.xlabel('Epochs')\n",
        "plt.ylabel('Accuracy')\n",
        "\n",
        "plt.show()"
      ],
      "execution_count": 24,
      "outputs": [
        {
          "output_type": "display_data",
          "data": {
            "image/png": "[encoded data removed]",
            "text/plain": [
              "<Figure size 432x288 with 1 Axes>"
            ]
          },
          "metadata": {
            "tags": []
          }
        }
      ]
    },
    {
      "cell_type": "code",
      "metadata": {
        "id": "QYspICObhjPl",
        "colab_type": "code",
        "colab": {
          "base_uri": "https://localhost:8080/",
          "height": 52
        },
        "outputId": "f423d78c-10aa-4ee9-d86a-d26abac9ffb2"
      },
      "source": [
        "model.evaluate(X_test,Y_test)"
      ],
      "execution_count": 25,
      "outputs": [
        {
          "output_type": "stream",
          "text": [
            "10000/10000 [==============================] - 1s 128us/step\n"
          ],
          "name": "stdout"
        },
        {
          "output_type": "execute_result",
          "data": {
            "text/plain": [
              "[0.025943285627150908, 0.9923]"
            ]
          },
          "metadata": {
            "tags": []
          },
          "execution_count": 25
        }
      ]
    },
    {
      "cell_type": "markdown",
      "metadata": {
        "id": "pfmZX9_DqpNP",
        "colab_type": "text"
      },
      "source": [
        "model hit 99.23 val_accuracy...will try by checking out with dropout....\n",
        "\n",
        "model inspiration from VGG blocks..."
      ]
    }
  ]
}