{
  "nbformat": 4,
  "nbformat_minor": 0,
  "metadata": {
    "colab": {
      "name": "mnist-Adamwithallimprovements.ipynb",
      "provenance": [],
      "collapsed_sections": [],
      "include_colab_link": true
    },
    "kernelspec": {
      "name": "python3",
      "display_name": "Python 3"
    },
    "accelerator": "GPU"
  },
  "cells": [
    {
      "cell_type": "markdown",
      "metadata": {
        "id": "view-in-github",
        "colab_type": "text"
      },
      "source": [
        "<a href=\"https://colab.research.google.com/github/mohanaditya910/eip-season4-batch1/blob/master/week2/mnist_submission_final.ipynb\" target=\"_parent\"><img src=\"https://colab.research.google.com/assets/colab-badge.svg\" alt=\"Open In Colab\"/></a>"
      ]
    },
    {
      "cell_type": "code",
      "metadata": {
        "id": "ofdloK0vtKYQ",
        "colab_type": "code",
        "colab": {
          "base_uri": "https://localhost:8080/",
          "height": 124
        },
        "outputId": "9c3f65b8-4ec9-4a3e-99ec-ce709a17565c"
      },
      "source": [
        "from google.colab import drive\n",
        "drive.mount('/content/drive')"
      ],
      "execution_count": 1,
      "outputs": [
        {
          "output_type": "stream",
          "text": [
            "Go to this URL in a browser: https://accounts.google.com/o/oauth2/auth?client_id=947318989803-6bn6qk8qdgf4n4g3pfee6491hc0brc4i.apps.googleusercontent.com&redirect_uri=urn%3aietf%3awg%3aoauth%3a2.0%3aoob&response_type=code&scope=email%20https%3a%2f%2fwww.googleapis.com%2fauth%2fdocs.test%20https%3a%2f%2fwww.googleapis.com%2fauth%2fdrive%20https%3a%2f%2fwww.googleapis.com%2fauth%2fdrive.photos.readonly%20https%3a%2f%2fwww.googleapis.com%2fauth%2fpeopleapi.readonly\n",
            "\n",
            "Enter your authorization code:\n",
            "··········\n",
            "Mounted at /content/drive\n"
          ],
          "name": "stdout"
        }
      ]
    },
    {
      "cell_type": "code",
      "metadata": {
        "id": "uC_NakgYtZMF",
        "colab_type": "code",
        "colab": {
          "base_uri": "https://localhost:8080/",
          "height": 34
        },
        "outputId": "eb30118a-13de-4f66-c9e7-e6d705e6c209"
      },
      "source": [
        "!mkdir drive/'My Drive'/models/mnist-data_augmentation"
      ],
      "execution_count": 2,
      "outputs": [
        {
          "output_type": "stream",
          "text": [
            "mkdir: cannot create directory ‘drive/My Drive/models/mnist-data_augmentation’: File exists\n"
          ],
          "name": "stdout"
        }
      ]
    },
    {
      "cell_type": "code",
      "metadata": {
        "id": "JL1kZKW0tchC",
        "colab_type": "code",
        "colab": {
          "base_uri": "https://localhost:8080/",
          "height": 116
        },
        "outputId": "8957956d-5dec-4f62-fceb-6c8434385cc4"
      },
      "source": [
        "import numpy as np\n",
        "from keras.utils import np_utils\n",
        "from keras.datasets import mnist\n",
        "\n",
        "(X_train, y_train), (X_test, y_test) = mnist.load_data()\n",
        "\n",
        "X_train = X_train.reshape(X_train.shape[0], 28, 28,1)\n",
        "X_test = X_test.reshape(X_test.shape[0], 28, 28,1)\n",
        "\n",
        "X_train = X_train.astype('float32')\n",
        "X_test = X_test.astype('float32')\n",
        "X_train /= 255\n",
        "X_test /= 255\n",
        "\n",
        "# Convert 1-dimensional class arrays to 10-dimensional class matrices\n",
        "Y_train = np_utils.to_categorical(y_train, 10)\n",
        "Y_test = np_utils.to_categorical(y_test, 10)"
      ],
      "execution_count": 3,
      "outputs": [
        {
          "output_type": "stream",
          "text": [
            "Using TensorFlow backend.\n"
          ],
          "name": "stderr"
        },
        {
          "output_type": "display_data",
          "data": {
            "text/html": [
              "<p style=\"color: red;\">\n",
              "The default version of TensorFlow in Colab will soon switch to TensorFlow 2.x.<br>\n",
              "We recommend you <a href=\"https://www.tensorflow.org/guide/migrate\" target=\"_blank\">upgrade</a> now \n",
              "or ensure your notebook will continue to use TensorFlow 1.x via the <code>%tensorflow_version 1.x</code> magic:\n",
              "<a href=\"https://colab.research.google.com/notebooks/tensorflow_version.ipynb\" target=\"_blank\">more info</a>.</p>\n"
            ],
            "text/plain": [
              "<IPython.core.display.HTML object>"
            ]
          },
          "metadata": {
            "tags": []
          }
        },
        {
          "output_type": "stream",
          "text": [
            "Downloading data from https://s3.amazonaws.com/img-datasets/mnist.npz\n",
            "11493376/11490434 [==============================] - 2s 0us/step\n"
          ],
          "name": "stdout"
        }
      ]
    },
    {
      "cell_type": "code",
      "metadata": {
        "id": "SE2YC6V4toP3",
        "colab_type": "code",
        "colab": {}
      },
      "source": [
        "from keras.preprocessing.image import ImageDataGenerator"
      ],
      "execution_count": 0,
      "outputs": []
    },
    {
      "cell_type": "code",
      "metadata": {
        "id": "iyJGlW4YtqJr",
        "colab_type": "code",
        "colab": {}
      },
      "source": [
        "#########data augmentation cell#####################\n",
        "\n",
        "\n",
        "datagen = ImageDataGenerator(\n",
        "    featurewise_center=False,  # set input mean to 0 over the dataset\n",
        "    samplewise_center=False,  # set each sample mean to 0\n",
        "    featurewise_std_normalization=False,  # divide inputs by std of the dataset\n",
        "    samplewise_std_normalization=False,  # divide each input by its std\n",
        "    zca_whitening=False,  # apply ZCA whitening\n",
        "    zca_epsilon=1e-06,  # epsilon for ZCA whitening\n",
        "    rotation_range=15,  # randomly rotate images in the range (degrees, 0 to 180)\n",
        "    # randomly shift images horizontally (fraction of total width)\n",
        "    width_shift_range=0.05,\n",
        "    # randomly shift images vertically (fraction of total height)\n",
        "    height_shift_range=0.05,\n",
        "    shear_range=0.2,  # set range for random shear\n",
        "    zoom_range=0.05,  # set range for random zoom\n",
        "    channel_shift_range=0.,  # set range for random channel shifts\n",
        "    # set mode for filling points outside the input boundaries\n",
        "    fill_mode='nearest',\n",
        "    cval=0.,  # value used for fill_mode = \"constant\"\n",
        "    horizontal_flip=False,  # randomly flip images   ############not advisable because some numbers when flipped can represent other numbers..\n",
        "    vertical_flip=False,  # randomly flip images     #########################\n",
        "    # set rescaling factor (applied before any other transformation)\n",
        "    rescale=None, #already done....\n",
        "    # set function that will be applied on each input\n",
        "    preprocessing_function=None,\n",
        "\n",
        "##############can explore this part......\n",
        "\n",
        "\n",
        "    # image data format, either \"channels_first\" or \"channels_last\"\n",
        "    data_format=None,\n",
        "    # fraction of images reserved for validation (strictly between 0 and 1)\n",
        "#    validation_split=0 i will use test data as val_data....\n",
        "                        )\n",
        "\n",
        "# Compute quantities required for feature-wise normalization\n",
        "# (std, mean, and principal components if ZCA whitening is applied).\n",
        "datagen.fit(X_train)"
      ],
      "execution_count": 0,
      "outputs": []
    },
    {
      "cell_type": "code",
      "metadata": {
        "id": "Bf5mcmZBtuA6",
        "colab_type": "code",
        "colab": {}
      },
      "source": [
        "from os.path import join ,exists\n",
        "import os\n",
        "import matplotlib.pyplot as plt\n",
        "\n",
        "from keras.models import Sequential\n",
        "from keras.layers import  Activation, Flatten\n",
        "from keras.layers import Conv2D, MaxPooling2D, BatchNormalization, Dropout\n",
        "from keras.optimizers import SGD\n",
        "from keras.callbacks import ModelCheckpoint\n",
        "from keras.callbacks import LearningRateScheduler\n",
        "from keras.regularizers import l2\n",
        "from keras.initializers import glorot_normal\n",
        "from keras.regularizers import l2"
      ],
      "execution_count": 0,
      "outputs": []
    },
    {
      "cell_type": "code",
      "metadata": {
        "id": "VeNwQqUIt1BO",
        "colab_type": "code",
        "colab": {}
      },
      "source": [
        "def skeleton_dropout(input_shape,num_classes,n_c_factor_3,n_c_1,layers_in_block,dropout):\n",
        "\n",
        "  model=Sequential()\n",
        "  for i in range(layers_in_block):\n",
        "    if i==0:\n",
        "      model.add(Conv2D(((i+1)*n_c_factor_3),kernel_size=3,input_shape=(28,28,1),activation='relu',use_bias=False,kernel_initializer=glorot_normal(seed=None)))#26\n",
        "      model.add(BatchNormalization())\n",
        "    else:\n",
        "      model.add(Conv2D(((i+1)*n_c_factor_3),kernel_size=3,activation='relu',use_bias=False,kernel_initializer=glorot_normal(seed=None)))#24,22\n",
        "      model.add(BatchNormalization())\n",
        "    \n",
        "  model.add(Dropout(dropout))\n",
        "\n",
        "  model.add(MaxPooling2D(pool_size=(2,2)))#11\n",
        "  model.add(Conv2D(filters=n_c_1,kernel_size=1,activation='relu',use_bias=False,kernel_initializer=glorot_normal(seed=None)))#11\n",
        "  model.add(BatchNormalization())\n",
        "\n",
        "  for i in range(layers_in_block):\n",
        "    model.add(Conv2D(((i+1)*n_c_factor_3),kernel_size=3,activation='relu',use_bias=False,kernel_initializer=glorot_normal(seed=None)))#9,7,5\n",
        "    model.add(BatchNormalization())\n",
        "\n",
        "  model.add(Dropout(dropout))\n",
        "\n",
        "  #no maxpooling\n",
        "  model.add(Conv2D(filters=num_classes,kernel_size=1,activation='relu',use_bias=False,kernel_initializer=glorot_normal(seed=None)))#5\n",
        "  #activation is avoided.\n",
        "  model.add(Conv2D(filters=num_classes,kernel_size=3,activation='relu',use_bias=False,kernel_initializer=glorot_normal(seed=None))) #3   #provide activation\n",
        "  model.add(Conv2D(filters=num_classes,kernel_size=3,use_bias=False,kernel_initializer=glorot_normal(seed=None)))\n",
        "  ##\n",
        "\n",
        "  model.add(Flatten())\n",
        "  model.add(Activation('softmax'))\n",
        "\n",
        "  return model"
      ],
      "execution_count": 0,
      "outputs": []
    },
    {
      "cell_type": "code",
      "metadata": {
        "id": "t8BDsFlFt2d5",
        "colab_type": "code",
        "colab": {}
      },
      "source": [
        "from keras.optimizers import SGD,Adam\n",
        "from keras.callbacks import ModelCheckpoint\n",
        "from keras.callbacks import LearningRateScheduler\n",
        "def scheduler(epoch, lr):\n",
        "  return round(0.001 * 1/(1 + 0.319 * epoch), 10)"
      ],
      "execution_count": 0,
      "outputs": []
    },
    {
      "cell_type": "code",
      "metadata": {
        "id": "8GorEHLwt5sN",
        "colab_type": "code",
        "colab": {
          "base_uri": "https://localhost:8080/",
          "height": 1000
        },
        "outputId": "f029b5f1-1baa-41ab-ef3c-f764cbb7ba35"
      },
      "source": [
        "#####################introducing learning rate scheduler......#########################################\n",
        "!mkdir drive/'My Drive'/models/mnist-LRS\n",
        "layer_configs=[[7,10],[8,10]]\n",
        "base_path=\"/content/drive/My Drive/models/mnist-LRS/\"\n",
        "dropout=0.1\n",
        "#opt=SGD(lr=0.001,momentum=0.99) ###decay and lr tuning can be done\n",
        "opt=Adam(lr=0.001)\n",
        "for layer_config in layer_configs:\n",
        "\n",
        "  add_path=\"{}_{}_{}/\".format(layer_config[0],layer_config[1],dropout)\n",
        "  if not exists(join(base_path,add_path)):\n",
        "    print(not exists(join(base_path,add_path)))\n",
        "    os.mkdir(join(base_path,add_path))\n",
        "  #print(filepath_initial)\n",
        "  filepath_initial=join(base_path,add_path)\n",
        "  filepath=filepath_initial+\"weights-improvement-{epoch:02d}-{val_acc:.4f}.hdf5\"\n",
        "  cp=ModelCheckpoint(filepath=filepath, monitor='val_acc', verbose=0,save_best_only=True,save_weights_only=False,mode='max',period=1)\n",
        "\n",
        "  input_shape=(28,28,1)\n",
        "  num_classes=10\n",
        "  n_c_factor_3=layer_config[0]\n",
        "  n_c_1=layer_config[1]\n",
        "  layers_in_block=3\n",
        "\n",
        "\n",
        "  model=skeleton_dropout(input_shape,num_classes,n_c_factor_3,n_c_1,layers_in_block,dropout)\n",
        "  model.summary()\n",
        "  model.compile(loss='categorical_crossentropy',\n",
        "                optimizer=opt,\n",
        "                metrics=['accuracy'])\n",
        "  \n",
        "\n",
        "  history=model.fit_generator(datagen.flow(X_train, Y_train,batch_size=32),\n",
        "                                validation_data=(X_test, Y_test),\n",
        "                                callbacks=[cp,LearningRateScheduler(scheduler, verbose=1)],\n",
        "                                epochs=20)\n",
        "\n",
        "\n",
        "  acc=history.history['acc']\n",
        "  val_acc=history.history['val_acc']\n",
        "  loss=history.history['loss']\n",
        "  val_loss=history.history['val_loss']\n",
        "\n",
        "  epochs=range(1,len(acc)+1)\n",
        "\n",
        "  plt.plot(epochs,acc,'b',label='Train_acc')\n",
        "  plt.plot(epochs,val_acc,'g',label='Val_acc')\n",
        "  plt.xlabel('Epochs')\n",
        "  plt.ylabel('Accuracy')\n",
        "\n",
        "  plt.show()"
      ],
      "execution_count": 14,
      "outputs": [
        {
          "output_type": "stream",
          "text": [
            "mkdir: cannot create directory ‘drive/My Drive/models/mnist-LRS’: File exists\n",
            "Model: \"sequential_2\"\n",
            "_________________________________________________________________\n",
            "Layer (type)                 Output Shape              Param #   \n",
            "=================================================================\n",
            "conv2d_11 (Conv2D)           (None, 26, 26, 7)         63        \n",
            "_________________________________________________________________\n",
            "batch_normalization_8 (Batch (None, 26, 26, 7)         28        \n",
            "_________________________________________________________________\n",
            "conv2d_12 (Conv2D)           (None, 24, 24, 14)        882       \n",
            "_________________________________________________________________\n",
            "batch_normalization_9 (Batch (None, 24, 24, 14)        56        \n",
            "_________________________________________________________________\n",
            "conv2d_13 (Conv2D)           (None, 22, 22, 21)        2646      \n",
            "_________________________________________________________________\n",
            "batch_normalization_10 (Batc (None, 22, 22, 21)        84        \n",
            "_________________________________________________________________\n",
            "dropout_3 (Dropout)          (None, 22, 22, 21)        0         \n",
            "_________________________________________________________________\n",
            "max_pooling2d_2 (MaxPooling2 (None, 11, 11, 21)        0         \n",
            "_________________________________________________________________\n",
            "conv2d_14 (Conv2D)           (None, 11, 11, 10)        210       \n",
            "_________________________________________________________________\n",
            "batch_normalization_11 (Batc (None, 11, 11, 10)        40        \n",
            "_________________________________________________________________\n",
            "conv2d_15 (Conv2D)           (None, 9, 9, 7)           630       \n",
            "_________________________________________________________________\n",
            "batch_normalization_12 (Batc (None, 9, 9, 7)           28        \n",
            "_________________________________________________________________\n",
            "conv2d_16 (Conv2D)           (None, 7, 7, 14)          882       \n",
            "_________________________________________________________________\n",
            "batch_normalization_13 (Batc (None, 7, 7, 14)          56        \n",
            "_________________________________________________________________\n",
            "conv2d_17 (Conv2D)           (None, 5, 5, 21)          2646      \n",
            "_________________________________________________________________\n",
            "batch_normalization_14 (Batc (None, 5, 5, 21)          84        \n",
            "_________________________________________________________________\n",
            "dropout_4 (Dropout)          (None, 5, 5, 21)          0         \n",
            "_________________________________________________________________\n",
            "conv2d_18 (Conv2D)           (None, 5, 5, 10)          210       \n",
            "_________________________________________________________________\n",
            "conv2d_19 (Conv2D)           (None, 3, 3, 10)          900       \n",
            "_________________________________________________________________\n",
            "conv2d_20 (Conv2D)           (None, 1, 1, 10)          900       \n",
            "_________________________________________________________________\n",
            "flatten_2 (Flatten)          (None, 10)                0         \n",
            "_________________________________________________________________\n",
            "activation_2 (Activation)    (None, 10)                0         \n",
            "=================================================================\n",
            "Total params: 10,345\n",
            "Trainable params: 10,157\n",
            "Non-trainable params: 188\n",
            "_________________________________________________________________\n",
            "Epoch 1/20\n",
            "\n",
            "Epoch 00001: LearningRateScheduler setting learning rate to 0.001.\n",
            "1875/1875 [==============================] - 48s 26ms/step - loss: 0.3492 - acc: 0.8878 - val_loss: 0.0649 - val_acc: 0.9808\n",
            "Epoch 2/20\n",
            "\n",
            "Epoch 00002: LearningRateScheduler setting learning rate to 0.0007581501.\n",
            "1875/1875 [==============================] - 46s 25ms/step - loss: 0.1136 - acc: 0.9644 - val_loss: 0.0475 - val_acc: 0.9856\n",
            "Epoch 3/20\n",
            "\n",
            "Epoch 00003: LearningRateScheduler setting learning rate to 0.0006105006.\n",
            "1875/1875 [==============================] - 46s 24ms/step - loss: 0.0865 - acc: 0.9736 - val_loss: 0.0411 - val_acc: 0.9875\n",
            "Epoch 4/20\n",
            "\n",
            "Epoch 00004: LearningRateScheduler setting learning rate to 0.0005109862.\n",
            "1875/1875 [==============================] - 46s 24ms/step - loss: 0.0768 - acc: 0.9762 - val_loss: 0.0361 - val_acc: 0.9895\n",
            "Epoch 5/20\n",
            "\n",
            "Epoch 00005: LearningRateScheduler setting learning rate to 0.0004393673.\n",
            "1875/1875 [==============================] - 46s 24ms/step - loss: 0.0677 - acc: 0.9793 - val_loss: 0.0294 - val_acc: 0.9905\n",
            "Epoch 6/20\n",
            "\n",
            "Epoch 00006: LearningRateScheduler setting learning rate to 0.0003853565.\n",
            "1875/1875 [==============================] - 45s 24ms/step - loss: 0.0607 - acc: 0.9811 - val_loss: 0.0339 - val_acc: 0.9893\n",
            "Epoch 7/20\n",
            "\n",
            "Epoch 00007: LearningRateScheduler setting learning rate to 0.0003431709.\n",
            "1875/1875 [==============================] - 45s 24ms/step - loss: 0.0573 - acc: 0.9823 - val_loss: 0.0366 - val_acc: 0.9889\n",
            "Epoch 8/20\n",
            "\n",
            "Epoch 00008: LearningRateScheduler setting learning rate to 0.0003093102.\n",
            "1875/1875 [==============================] - 45s 24ms/step - loss: 0.0541 - acc: 0.9829 - val_loss: 0.0267 - val_acc: 0.9916\n",
            "Epoch 9/20\n",
            "\n",
            "Epoch 00009: LearningRateScheduler setting learning rate to 0.0002815315.\n",
            "1875/1875 [==============================] - 45s 24ms/step - loss: 0.0515 - acc: 0.9839 - val_loss: 0.0413 - val_acc: 0.9878\n",
            "Epoch 10/20\n",
            "\n",
            "Epoch 00010: LearningRateScheduler setting learning rate to 0.0002583312.\n",
            "1875/1875 [==============================] - 45s 24ms/step - loss: 0.0483 - acc: 0.9853 - val_loss: 0.0263 - val_acc: 0.9917\n",
            "Epoch 11/20\n",
            "\n",
            "Epoch 00011: LearningRateScheduler setting learning rate to 0.0002386635.\n",
            "1875/1875 [==============================] - 46s 24ms/step - loss: 0.0479 - acc: 0.9854 - val_loss: 0.0325 - val_acc: 0.9903\n",
            "Epoch 12/20\n",
            "\n",
            "Epoch 00012: LearningRateScheduler setting learning rate to 0.0002217787.\n",
            "1875/1875 [==============================] - 45s 24ms/step - loss: 0.0451 - acc: 0.9860 - val_loss: 0.0272 - val_acc: 0.9919\n",
            "Epoch 13/20\n",
            "\n",
            "Epoch 00013: LearningRateScheduler setting learning rate to 0.0002071251.\n",
            "1875/1875 [==============================] - 46s 24ms/step - loss: 0.0453 - acc: 0.9858 - val_loss: 0.0258 - val_acc: 0.9915\n",
            "Epoch 14/20\n",
            "\n",
            "Epoch 00014: LearningRateScheduler setting learning rate to 0.0001942879.\n",
            "1875/1875 [==============================] - 45s 24ms/step - loss: 0.0411 - acc: 0.9867 - val_loss: 0.0242 - val_acc: 0.9924\n",
            "Epoch 15/20\n",
            "\n",
            "Epoch 00015: LearningRateScheduler setting learning rate to 0.0001829491.\n",
            "1875/1875 [==============================] - 46s 24ms/step - loss: 0.0425 - acc: 0.9867 - val_loss: 0.0253 - val_acc: 0.9916\n",
            "Epoch 16/20\n",
            "\n",
            "Epoch 00016: LearningRateScheduler setting learning rate to 0.0001728608.\n",
            "1875/1875 [==============================] - 45s 24ms/step - loss: 0.0422 - acc: 0.9869 - val_loss: 0.0281 - val_acc: 0.9917\n",
            "Epoch 17/20\n",
            "\n",
            "Epoch 00017: LearningRateScheduler setting learning rate to 0.000163827.\n",
            "1875/1875 [==============================] - 45s 24ms/step - loss: 0.0414 - acc: 0.9871 - val_loss: 0.0257 - val_acc: 0.9916\n",
            "Epoch 18/20\n",
            "\n",
            "Epoch 00018: LearningRateScheduler setting learning rate to 0.0001556905.\n",
            "1875/1875 [==============================] - 45s 24ms/step - loss: 0.0407 - acc: 0.9875 - val_loss: 0.0223 - val_acc: 0.9928\n",
            "Epoch 19/20\n",
            "\n",
            "Epoch 00019: LearningRateScheduler setting learning rate to 0.0001483239.\n",
            "1875/1875 [==============================] - 46s 24ms/step - loss: 0.0399 - acc: 0.9878 - val_loss: 0.0300 - val_acc: 0.9916\n",
            "Epoch 20/20\n",
            "\n",
            "Epoch 00020: LearningRateScheduler setting learning rate to 0.000141623.\n",
            "1875/1875 [==============================] - 45s 24ms/step - loss: 0.0374 - acc: 0.9883 - val_loss: 0.0264 - val_acc: 0.9923\n"
          ],
          "name": "stdout"
        },
        {
          "output_type": "display_data",
          "data": {
            "image/png": "[encoded data removed]",
            "text/plain": [
              "<Figure size 432x288 with 1 Axes>"
            ]
          },
          "metadata": {
            "tags": []
          }
        },
        {
          "output_type": "stream",
          "text": [
            "Model: \"sequential_3\"\n",
            "_________________________________________________________________\n",
            "Layer (type)                 Output Shape              Param #   \n",
            "=================================================================\n",
            "conv2d_21 (Conv2D)           (None, 26, 26, 8)         72        \n",
            "_________________________________________________________________\n",
            "batch_normalization_15 (Batc (None, 26, 26, 8)         32        \n",
            "_________________________________________________________________\n",
            "conv2d_22 (Conv2D)           (None, 24, 24, 16)        1152      \n",
            "_________________________________________________________________\n",
            "batch_normalization_16 (Batc (None, 24, 24, 16)        64        \n",
            "_________________________________________________________________\n",
            "conv2d_23 (Conv2D)           (None, 22, 22, 24)        3456      \n",
            "_________________________________________________________________\n",
            "batch_normalization_17 (Batc (None, 22, 22, 24)        96        \n",
            "_________________________________________________________________\n",
            "dropout_5 (Dropout)          (None, 22, 22, 24)        0         \n",
            "_________________________________________________________________\n",
            "max_pooling2d_3 (MaxPooling2 (None, 11, 11, 24)        0         \n",
            "_________________________________________________________________\n",
            "conv2d_24 (Conv2D)           (None, 11, 11, 10)        240       \n",
            "_________________________________________________________________\n",
            "batch_normalization_18 (Batc (None, 11, 11, 10)        40        \n",
            "_________________________________________________________________\n",
            "conv2d_25 (Conv2D)           (None, 9, 9, 8)           720       \n",
            "_________________________________________________________________\n",
            "batch_normalization_19 (Batc (None, 9, 9, 8)           32        \n",
            "_________________________________________________________________\n",
            "conv2d_26 (Conv2D)           (None, 7, 7, 16)          1152      \n",
            "_________________________________________________________________\n",
            "batch_normalization_20 (Batc (None, 7, 7, 16)          64        \n",
            "_________________________________________________________________\n",
            "conv2d_27 (Conv2D)           (None, 5, 5, 24)          3456      \n",
            "_________________________________________________________________\n",
            "batch_normalization_21 (Batc (None, 5, 5, 24)          96        \n",
            "_________________________________________________________________\n",
            "dropout_6 (Dropout)          (None, 5, 5, 24)          0         \n",
            "_________________________________________________________________\n",
            "conv2d_28 (Conv2D)           (None, 5, 5, 10)          240       \n",
            "_________________________________________________________________\n",
            "conv2d_29 (Conv2D)           (None, 3, 3, 10)          900       \n",
            "_________________________________________________________________\n",
            "conv2d_30 (Conv2D)           (None, 1, 1, 10)          900       \n",
            "_________________________________________________________________\n",
            "flatten_3 (Flatten)          (None, 10)                0         \n",
            "_________________________________________________________________\n",
            "activation_3 (Activation)    (None, 10)                0         \n",
            "=================================================================\n",
            "Total params: 12,712\n",
            "Trainable params: 12,500\n",
            "Non-trainable params: 212\n",
            "_________________________________________________________________\n",
            "Epoch 1/20\n",
            "\n",
            "Epoch 00001: LearningRateScheduler setting learning rate to 0.001.\n",
            "1875/1875 [==============================] - 48s 26ms/step - loss: 0.2249 - acc: 0.9291 - val_loss: 0.0519 - val_acc: 0.9829\n",
            "Epoch 2/20\n",
            "\n",
            "Epoch 00002: LearningRateScheduler setting learning rate to 0.0007581501.\n",
            "1875/1875 [==============================] - 46s 25ms/step - loss: 0.0953 - acc: 0.9707 - val_loss: 0.0392 - val_acc: 0.9891\n",
            "Epoch 3/20\n",
            "\n",
            "Epoch 00003: LearningRateScheduler setting learning rate to 0.0006105006.\n",
            "1875/1875 [==============================] - 46s 24ms/step - loss: 0.0775 - acc: 0.9764 - val_loss: 0.0327 - val_acc: 0.9902\n",
            "Epoch 4/20\n",
            "\n",
            "Epoch 00004: LearningRateScheduler setting learning rate to 0.0005109862.\n",
            "1875/1875 [==============================] - 46s 25ms/step - loss: 0.0669 - acc: 0.9798 - val_loss: 0.0292 - val_acc: 0.9904\n",
            "Epoch 5/20\n",
            "\n",
            "Epoch 00005: LearningRateScheduler setting learning rate to 0.0004393673.\n",
            "1875/1875 [==============================] - 46s 24ms/step - loss: 0.0614 - acc: 0.9809 - val_loss: 0.0322 - val_acc: 0.9903\n",
            "Epoch 6/20\n",
            "\n",
            "Epoch 00006: LearningRateScheduler setting learning rate to 0.0003853565.\n",
            "1875/1875 [==============================] - 46s 24ms/step - loss: 0.0577 - acc: 0.9822 - val_loss: 0.0273 - val_acc: 0.9914\n",
            "Epoch 7/20\n",
            "\n",
            "Epoch 00007: LearningRateScheduler setting learning rate to 0.0003431709.\n",
            "1875/1875 [==============================] - 46s 24ms/step - loss: 0.0532 - acc: 0.9835 - val_loss: 0.0252 - val_acc: 0.9918\n",
            "Epoch 8/20\n",
            "\n",
            "Epoch 00008: LearningRateScheduler setting learning rate to 0.0003093102.\n",
            "1875/1875 [==============================] - 46s 24ms/step - loss: 0.0484 - acc: 0.9851 - val_loss: 0.0291 - val_acc: 0.9921\n",
            "Epoch 9/20\n",
            "\n",
            "Epoch 00009: LearningRateScheduler setting learning rate to 0.0002815315.\n",
            "1875/1875 [==============================] - 46s 24ms/step - loss: 0.0467 - acc: 0.9861 - val_loss: 0.0234 - val_acc: 0.9927\n",
            "Epoch 10/20\n",
            "\n",
            "Epoch 00010: LearningRateScheduler setting learning rate to 0.0002583312.\n",
            "1875/1875 [==============================] - 46s 25ms/step - loss: 0.0484 - acc: 0.9848 - val_loss: 0.0230 - val_acc: 0.9926\n",
            "Epoch 11/20\n",
            "\n",
            "Epoch 00011: LearningRateScheduler setting learning rate to 0.0002386635.\n",
            "1875/1875 [==============================] - 46s 25ms/step - loss: 0.0434 - acc: 0.9864 - val_loss: 0.0222 - val_acc: 0.9929\n",
            "Epoch 12/20\n",
            "\n",
            "Epoch 00012: LearningRateScheduler setting learning rate to 0.0002217787.\n",
            "1875/1875 [==============================] - 46s 25ms/step - loss: 0.0420 - acc: 0.9870 - val_loss: 0.0227 - val_acc: 0.9918\n",
            "Epoch 13/20\n",
            "\n",
            "Epoch 00013: LearningRateScheduler setting learning rate to 0.0002071251.\n",
            "1875/1875 [==============================] - 47s 25ms/step - loss: 0.0418 - acc: 0.9871 - val_loss: 0.0210 - val_acc: 0.9929\n",
            "Epoch 14/20\n",
            "\n",
            "Epoch 00014: LearningRateScheduler setting learning rate to 0.0001942879.\n",
            "1875/1875 [==============================] - 47s 25ms/step - loss: 0.0402 - acc: 0.9872 - val_loss: 0.0190 - val_acc: 0.9945\n",
            "Epoch 15/20\n",
            "\n",
            "Epoch 00015: LearningRateScheduler setting learning rate to 0.0001829491.\n",
            "1875/1875 [==============================] - 47s 25ms/step - loss: 0.0382 - acc: 0.9879 - val_loss: 0.0204 - val_acc: 0.9927\n",
            "Epoch 16/20\n",
            "\n",
            "Epoch 00016: LearningRateScheduler setting learning rate to 0.0001728608.\n",
            "1875/1875 [==============================] - 47s 25ms/step - loss: 0.0382 - acc: 0.9879 - val_loss: 0.0198 - val_acc: 0.9930\n",
            "Epoch 17/20\n",
            "\n",
            "Epoch 00017: LearningRateScheduler setting learning rate to 0.000163827.\n",
            "1875/1875 [==============================] - 47s 25ms/step - loss: 0.0372 - acc: 0.9884 - val_loss: 0.0194 - val_acc: 0.9935\n",
            "Epoch 18/20\n",
            "\n",
            "Epoch 00018: LearningRateScheduler setting learning rate to 0.0001556905.\n",
            "1875/1875 [==============================] - 47s 25ms/step - loss: 0.0367 - acc: 0.9881 - val_loss: 0.0187 - val_acc: 0.9939\n",
            "Epoch 19/20\n",
            "\n",
            "Epoch 00019: LearningRateScheduler setting learning rate to 0.0001483239.\n",
            "1875/1875 [==============================] - 47s 25ms/step - loss: 0.0353 - acc: 0.9891 - val_loss: 0.0190 - val_acc: 0.9942\n",
            "Epoch 20/20\n",
            "\n",
            "Epoch 00020: LearningRateScheduler setting learning rate to 0.000141623.\n",
            "1875/1875 [==============================] - 47s 25ms/step - loss: 0.0343 - acc: 0.9890 - val_loss: 0.0191 - val_acc: 0.9937\n"
          ],
          "name": "stdout"
        },
        {
          "output_type": "display_data",
          "data": {
            "image/png": "[encoded data removed]",
            "text/plain": [
              "<Figure size 432x288 with 1 Axes>"
            ]
          },
          "metadata": {
            "tags": []
          }
        }
      ]
    },
    {
      "cell_type": "code",
      "metadata": {
        "id": "ZwlcS-PUa9mE",
        "colab_type": "code",
        "colab": {}
      },
      "source": [
        ""
      ],
      "execution_count": 0,
      "outputs": []
    }
  ]
}