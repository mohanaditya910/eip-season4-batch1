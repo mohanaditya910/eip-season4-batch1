{
  "nbformat": 4,
  "nbformat_minor": 0,
  "metadata": {
    "colab": {
      "name": "max-12k-LRS-L1.ipynb",
      "provenance": [],
      "include_colab_link": true
    },
    "kernelspec": {
      "name": "python3",
      "display_name": "Python 3"
    },
    "accelerator": "GPU"
  },
  "cells": [
    {
      "cell_type": "markdown",
      "metadata": {
        "id": "view-in-github",
        "colab_type": "text"
      },
      "source": [
        "<a href=\"https://colab.research.google.com/github/mohanaditya910/eip-season4-batch1/blob/master/week2/final_submission_max_12k_LRS_L1.ipynb\" target=\"_parent\"><img src=\"https://colab.research.google.com/assets/colab-badge.svg\" alt=\"Open In Colab\"/></a>"
      ]
    },
    {
      "cell_type": "code",
      "metadata": {
        "id": "03uXvNxwKz5k",
        "colab_type": "code",
        "colab": {
          "base_uri": "https://localhost:8080/",
          "height": 116
        },
        "outputId": "1e4ee7e9-503a-4d61-eefc-f6345f45d307"
      },
      "source": [
        "import numpy as np\n",
        "from keras.utils import np_utils\n",
        "from keras.datasets import mnist\n",
        "\n",
        "(X_train, y_train), (X_test, y_test) = mnist.load_data()\n",
        "\n",
        "X_train = X_train.reshape(X_train.shape[0], 28, 28,1)\n",
        "X_test = X_test.reshape(X_test.shape[0], 28, 28,1)\n",
        "\n",
        "#image standardization........\n",
        "X_train = X_train.astype('float32')\n",
        "X_test = X_test.astype('float32')\n",
        "X_train /= 255\n",
        "X_test /= 255\n",
        "\n",
        "#image normalization................\n",
        "X_train=(X_train-np.mean(X_train))/np.std(X_train)\n",
        "X_test=(X_test-np.mean(X_test))/np.std(X_test)\n",
        "\n",
        "# Convert 1-dimensional class arrays to 10-dimensional class matrices\n",
        "Y_train = np_utils.to_categorical(y_train, 10)\n",
        "Y_test = np_utils.to_categorical(y_test, 10)"
      ],
      "execution_count": 6,
      "outputs": [
        {
          "output_type": "stream",
          "text": [
            "Using TensorFlow backend.\n"
          ],
          "name": "stderr"
        },
        {
          "output_type": "display_data",
          "data": {
            "text/html": [
              "<p style=\"color: red;\">\n",
              "The default version of TensorFlow in Colab will soon switch to TensorFlow 2.x.<br>\n",
              "We recommend you <a href=\"https://www.tensorflow.org/guide/migrate\" target=\"_blank\">upgrade</a> now \n",
              "or ensure your notebook will continue to use TensorFlow 1.x via the <code>%tensorflow_version 1.x</code> magic:\n",
              "<a href=\"https://colab.research.google.com/notebooks/tensorflow_version.ipynb\" target=\"_blank\">more info</a>.</p>\n"
            ],
            "text/plain": [
              "<IPython.core.display.HTML object>"
            ]
          },
          "metadata": {
            "tags": []
          }
        },
        {
          "output_type": "stream",
          "text": [
            "Downloading data from https://s3.amazonaws.com/img-datasets/mnist.npz\n",
            "11493376/11490434 [==============================] - 2s 0us/step\n"
          ],
          "name": "stdout"
        }
      ]
    },
    {
      "cell_type": "code",
      "metadata": {
        "id": "B-e6V334K7sj",
        "colab_type": "code",
        "colab": {}
      },
      "source": [
        "#praying to the heavenly gods........................\n",
        "from keras.models import Sequential\n",
        "from keras.layers import Conv2D,MaxPooling2D,BatchNormalization,Flatten,Activation,Dropout\n",
        "from keras.optimizers import Adam\n",
        "from keras.regularizers import l1,l1_l2,l2\n",
        "from keras.initializers import TruncatedNormal"
      ],
      "execution_count": 0,
      "outputs": []
    },
    {
      "cell_type": "code",
      "metadata": {
        "id": "SNJC5b7jK_kX",
        "colab_type": "code",
        "colab": {}
      },
      "source": [
        "def skeleton(input_shape,num_classes,n_c_factor_3,n_c_1,layers_in_block,dropout,l1_value):\n",
        "\n",
        "  model=Sequential()\n",
        "  for i in range(layers_in_block):\n",
        "    if i==0:\n",
        "      model.add(Conv2D(((i+1)*n_c_factor_3),kernel_size=3,input_shape=(28,28,1),activation='relu',kernel_regularizer=l1(l1_value),use_bias=False,kernel_initializer=TruncatedNormal(mean=0.0, stddev=0.05, seed=None)))\n",
        "      model.add(BatchNormalization())\n",
        "    else:\n",
        "      model.add(Conv2D(((i+1)*n_c_factor_3),kernel_size=3,activation='relu',kernel_regularizer=l1(l1_value),use_bias=False,kernel_initializer=TruncatedNormal(mean=0.0, stddev=0.05, seed=None)))\n",
        "      model.add(BatchNormalization())\n",
        "  model.add(Dropout(dropout))\n",
        "  model.add(MaxPooling2D(pool_size=(2,2),strides=2))\n",
        "  model.add(Conv2D(filters=n_c_1,kernel_size=1,activation='relu',kernel_regularizer=l1(l1_value),use_bias=False,kernel_initializer=TruncatedNormal(mean=0.0, stddev=0.05, seed=None)))\n",
        "  model.add(BatchNormalization())\n",
        "\n",
        "  for i in range(layers_in_block):\n",
        "    model.add(Conv2D(((i+1)*n_c_factor_3),kernel_size=3,activation='relu',kernel_regularizer=l1(l1_value),use_bias=False,kernel_initializer=TruncatedNormal(mean=0.0, stddev=0.05, seed=None)))\n",
        "    model.add(BatchNormalization())\n",
        "  model.add(Dropout(dropout))\n",
        "  #no maxpooling\n",
        "  model.add(Conv2D(filters=num_classes,kernel_size=1,activation='relu',kernel_regularizer=l1(l1_value),use_bias=False,kernel_initializer=TruncatedNormal(mean=0.0, stddev=0.05, seed=None)))\n",
        "  #activation is avoided.\n",
        "  model.add(Conv2D(filters=num_classes,kernel_size=3,kernel_regularizer=l1(l1_value),use_bias=False,kernel_initializer=TruncatedNormal(mean=0.0, stddev=0.05, seed=None)))\n",
        "  model.add(Conv2D(filters=num_classes,kernel_size=3,kernel_regularizer=l1(l1_value),use_bias=False,kernel_initializer=TruncatedNormal(mean=0.0, stddev=0.05, seed=None)))\n",
        "  ##\n",
        "\n",
        "  model.add(Flatten())\n",
        "  model.add(Activation('softmax'))\n",
        "\n",
        "  return model"
      ],
      "execution_count": 0,
      "outputs": []
    },
    {
      "cell_type": "code",
      "metadata": {
        "id": "7EPIYHdKuZJv",
        "colab_type": "code",
        "colab": {}
      },
      "source": [
        "def scheduler(epoch, lr):\n",
        "  if epoch<9:\n",
        "    return round(0.004 * 1/(1 + 0.319 * epoch), 10)\n",
        "  else:\n",
        "    return round(0.0004 * 1/(1 + 0.319 * epoch), 10)\n",
        "\n",
        "def scheduler(epoch, lr):\n",
        "  if epoch<=6:\n",
        "    return round(0.004 * 1/(1 + 0.319 * epoch), 10)\n",
        "  elif epoch in [7,8,9,11,12,13,15,16,17,19]:\n",
        "    return round(0.0004 * 1/(1 + 0.319 * epoch), 10)\n",
        "\n",
        "  elif epoch in [10,14]:\n",
        "    return round(0.004 * 1/(1 + 0.319 * epoch), 10)"
      ],
      "execution_count": 0,
      "outputs": []
    },
    {
      "cell_type": "code",
      "metadata": {
        "id": "GM3c94gRLDvH",
        "colab_type": "code",
        "colab": {
          "base_uri": "https://localhost:8080/",
          "height": 920
        },
        "outputId": "dd3788ce-c2a2-40eb-adff-14a9dba7e4ba"
      },
      "source": [
        "input_shape=(28,28,1)\n",
        "num_classes=10\n",
        "layers_in_block=3\n",
        "\n",
        "\n",
        "n_c_factor_3=8\n",
        "n_c_1=8\n",
        "dropout=0.05\n",
        "opt=Adam(lr=0.004)\n",
        "l1_value=0.00005\n",
        "\n",
        "\n",
        "from keras.callbacks import LearningRateScheduler\n",
        "def scheduler(epoch, lr):\n",
        "  if epoch<=6:\n",
        "    return round(0.004 * 1/(1 + 0.319 * epoch), 10)\n",
        "  elif epoch in [7,8,9,11,12,13,14,16,17,18,19]:\n",
        "    return round(0.0004 * 1/(1 + 0.319 * epoch), 10)\n",
        "\n",
        "  elif epoch in [10,15]:\n",
        "    return round(0.004 * 1/(1 + 0.319 * epoch), 10)\n",
        "\n",
        "\n",
        "\n",
        "\n",
        "model=skeleton(input_shape,num_classes,n_c_factor_3,n_c_1,layers_in_block,dropout,l1_value)\n",
        "\n",
        "model.compile(loss='categorical_crossentropy',\n",
        "              optimizer=opt,\n",
        "              metrics=['accuracy'])\n",
        "\n",
        "model.summary()\n",
        "\n",
        "#l1 0.00001 99.31\n",
        "#l1 0.0001  99.31, \n",
        "#l1 0.0001  99.31, do 0.1\n",
        "#lr0.002    99.27\n",
        "#lr0.004, l1 0.0001 99.32\n",
        "#lr0.004  l1 0.00001 99.17\n",
        "#lr0.004  l1 0.000001 99.29\n",
        "#truncated initializer\n",
        "\n",
        "#lr0.004  l1 0.00001  99.24\n",
        "#lr0.004  l1 0.00001 lrs 99.34 consistently hitting 99.3 overfitting.. to reduce (reducing lr further by 10)\n",
        "#lr0.004  l1 0.00005 lrs 99.38 same pattern...\n",
        "#lr0.004  l1 0.0001 lrs 99.33\n",
        "#lr0.004  l1 0.00005 new lrs(4,4 to find local min) 99.48"
      ],
      "execution_count": 36,
      "outputs": [
        {
          "output_type": "stream",
          "text": [
            "Model: \"sequential_10\"\n",
            "_________________________________________________________________\n",
            "Layer (type)                 Output Shape              Param #   \n",
            "=================================================================\n",
            "conv2d_91 (Conv2D)           (None, 26, 26, 8)         72        \n",
            "_________________________________________________________________\n",
            "batch_normalization_64 (Batc (None, 26, 26, 8)         32        \n",
            "_________________________________________________________________\n",
            "conv2d_92 (Conv2D)           (None, 24, 24, 16)        1152      \n",
            "_________________________________________________________________\n",
            "batch_normalization_65 (Batc (None, 24, 24, 16)        64        \n",
            "_________________________________________________________________\n",
            "conv2d_93 (Conv2D)           (None, 22, 22, 24)        3456      \n",
            "_________________________________________________________________\n",
            "batch_normalization_66 (Batc (None, 22, 22, 24)        96        \n",
            "_________________________________________________________________\n",
            "dropout_19 (Dropout)         (None, 22, 22, 24)        0         \n",
            "_________________________________________________________________\n",
            "max_pooling2d_10 (MaxPooling (None, 11, 11, 24)        0         \n",
            "_________________________________________________________________\n",
            "conv2d_94 (Conv2D)           (None, 11, 11, 8)         192       \n",
            "_________________________________________________________________\n",
            "batch_normalization_67 (Batc (None, 11, 11, 8)         32        \n",
            "_________________________________________________________________\n",
            "conv2d_95 (Conv2D)           (None, 9, 9, 8)           576       \n",
            "_________________________________________________________________\n",
            "batch_normalization_68 (Batc (None, 9, 9, 8)           32        \n",
            "_________________________________________________________________\n",
            "conv2d_96 (Conv2D)           (None, 7, 7, 16)          1152      \n",
            "_________________________________________________________________\n",
            "batch_normalization_69 (Batc (None, 7, 7, 16)          64        \n",
            "_________________________________________________________________\n",
            "conv2d_97 (Conv2D)           (None, 5, 5, 24)          3456      \n",
            "_________________________________________________________________\n",
            "batch_normalization_70 (Batc (None, 5, 5, 24)          96        \n",
            "_________________________________________________________________\n",
            "dropout_20 (Dropout)         (None, 5, 5, 24)          0         \n",
            "_________________________________________________________________\n",
            "conv2d_98 (Conv2D)           (None, 5, 5, 10)          240       \n",
            "_________________________________________________________________\n",
            "conv2d_99 (Conv2D)           (None, 3, 3, 10)          900       \n",
            "_________________________________________________________________\n",
            "conv2d_100 (Conv2D)          (None, 1, 1, 10)          900       \n",
            "_________________________________________________________________\n",
            "flatten_10 (Flatten)         (None, 10)                0         \n",
            "_________________________________________________________________\n",
            "activation_10 (Activation)   (None, 10)                0         \n",
            "=================================================================\n",
            "Total params: 12,512\n",
            "Trainable params: 12,304\n",
            "Non-trainable params: 208\n",
            "_________________________________________________________________\n"
          ],
          "name": "stdout"
        }
      ]
    },
    {
      "cell_type": "code",
      "metadata": {
        "id": "K_qd80VJLHVA",
        "colab_type": "code",
        "colab": {
          "base_uri": "https://localhost:8080/",
          "height": 1000
        },
        "outputId": "21d2c64c-d48b-44b1-a5f2-3f756973af44"
      },
      "source": [
        "history=model.fit(X_train, Y_train, batch_size=32, epochs=20, verbose=1,validation_data=(X_test, Y_test), callbacks=[LearningRateScheduler(scheduler, verbose=1)])"
      ],
      "execution_count": 37,
      "outputs": [
        {
          "output_type": "stream",
          "text": [
            "Train on 60000 samples, validate on 10000 samples\n",
            "Epoch 1/20\n",
            "\n",
            "Epoch 00001: LearningRateScheduler setting learning rate to 0.004.\n",
            "60000/60000 [==============================] - 45s 743us/step - loss: 0.2222 - acc: 0.9461 - val_loss: 0.1287 - val_acc: 0.9749\n",
            "Epoch 2/20\n",
            "\n",
            "Epoch 00002: LearningRateScheduler setting learning rate to 0.0030326005.\n",
            "60000/60000 [==============================] - 38s 627us/step - loss: 0.1239 - acc: 0.9787 - val_loss: 0.1082 - val_acc: 0.9839\n",
            "Epoch 3/20\n",
            "\n",
            "Epoch 00003: LearningRateScheduler setting learning rate to 0.0024420024.\n",
            "60000/60000 [==============================] - 38s 628us/step - loss: 0.1110 - acc: 0.9822 - val_loss: 0.1037 - val_acc: 0.9855\n",
            "Epoch 4/20\n",
            "\n",
            "Epoch 00004: LearningRateScheduler setting learning rate to 0.0020439448.\n",
            "60000/60000 [==============================] - 38s 627us/step - loss: 0.1016 - acc: 0.9849 - val_loss: 0.1004 - val_acc: 0.9861\n",
            "Epoch 5/20\n",
            "\n",
            "Epoch 00005: LearningRateScheduler setting learning rate to 0.0017574692.\n",
            "60000/60000 [==============================] - 38s 626us/step - loss: 0.0931 - acc: 0.9865 - val_loss: 0.0810 - val_acc: 0.9899\n",
            "Epoch 6/20\n",
            "\n",
            "Epoch 00006: LearningRateScheduler setting learning rate to 0.0015414258.\n",
            "60000/60000 [==============================] - 38s 626us/step - loss: 0.0856 - acc: 0.9880 - val_loss: 0.0819 - val_acc: 0.9898\n",
            "Epoch 7/20\n",
            "\n",
            "Epoch 00007: LearningRateScheduler setting learning rate to 0.0013726836.\n",
            "60000/60000 [==============================] - 37s 622us/step - loss: 0.0806 - acc: 0.9893 - val_loss: 0.0852 - val_acc: 0.9886\n",
            "Epoch 8/20\n",
            "\n",
            "Epoch 00008: LearningRateScheduler setting learning rate to 0.0001237241.\n",
            "60000/60000 [==============================] - 37s 619us/step - loss: 0.0660 - acc: 0.9938 - val_loss: 0.0678 - val_acc: 0.9933\n",
            "Epoch 9/20\n",
            "\n",
            "Epoch 00009: LearningRateScheduler setting learning rate to 0.0001126126.\n",
            "60000/60000 [==============================] - 38s 626us/step - loss: 0.0604 - acc: 0.9952 - val_loss: 0.0652 - val_acc: 0.9935\n",
            "Epoch 10/20\n",
            "\n",
            "Epoch 00010: LearningRateScheduler setting learning rate to 0.0001033325.\n",
            "60000/60000 [==============================] - 38s 626us/step - loss: 0.0589 - acc: 0.9952 - val_loss: 0.0638 - val_acc: 0.9945\n",
            "Epoch 11/20\n",
            "\n",
            "Epoch 00011: LearningRateScheduler setting learning rate to 0.0009546539.\n",
            "60000/60000 [==============================] - 37s 623us/step - loss: 0.0717 - acc: 0.9914 - val_loss: 0.0699 - val_acc: 0.9912\n",
            "Epoch 12/20\n",
            "\n",
            "Epoch 00012: LearningRateScheduler setting learning rate to 8.87115e-05.\n",
            "60000/60000 [==============================] - 37s 621us/step - loss: 0.0590 - acc: 0.9953 - val_loss: 0.0633 - val_acc: 0.9933\n",
            "Epoch 13/20\n",
            "\n",
            "Epoch 00013: LearningRateScheduler setting learning rate to 8.285e-05.\n",
            "60000/60000 [==============================] - 37s 619us/step - loss: 0.0555 - acc: 0.9959 - val_loss: 0.0620 - val_acc: 0.9940\n",
            "Epoch 14/20\n",
            "\n",
            "Epoch 00014: LearningRateScheduler setting learning rate to 7.77152e-05.\n",
            "60000/60000 [==============================] - 37s 623us/step - loss: 0.0537 - acc: 0.9960 - val_loss: 0.0613 - val_acc: 0.9936\n",
            "Epoch 15/20\n",
            "\n",
            "Epoch 00015: LearningRateScheduler setting learning rate to 7.31797e-05.\n",
            "60000/60000 [==============================] - 37s 618us/step - loss: 0.0531 - acc: 0.9963 - val_loss: 0.0609 - val_acc: 0.9939\n",
            "Epoch 16/20\n",
            "\n",
            "Epoch 00016: LearningRateScheduler setting learning rate to 0.0006914434.\n",
            "60000/60000 [==============================] - 37s 621us/step - loss: 0.0620 - acc: 0.9932 - val_loss: 0.0643 - val_acc: 0.9925\n",
            "Epoch 17/20\n",
            "\n",
            "Epoch 00017: LearningRateScheduler setting learning rate to 6.55308e-05.\n",
            "60000/60000 [==============================] - 38s 627us/step - loss: 0.0537 - acc: 0.9957 - val_loss: 0.0603 - val_acc: 0.9948\n",
            "Epoch 18/20\n",
            "\n",
            "Epoch 00018: LearningRateScheduler setting learning rate to 6.22762e-05.\n",
            "60000/60000 [==============================] - 38s 627us/step - loss: 0.0506 - acc: 0.9967 - val_loss: 0.0599 - val_acc: 0.9942\n",
            "Epoch 19/20\n",
            "\n",
            "Epoch 00019: LearningRateScheduler setting learning rate to 5.93296e-05.\n",
            "60000/60000 [==============================] - 37s 621us/step - loss: 0.0496 - acc: 0.9969 - val_loss: 0.0594 - val_acc: 0.9945\n",
            "Epoch 20/20\n",
            "\n",
            "Epoch 00020: LearningRateScheduler setting learning rate to 5.66492e-05.\n",
            "60000/60000 [==============================] - 37s 619us/step - loss: 0.0488 - acc: 0.9971 - val_loss: 0.0589 - val_acc: 0.9942\n"
          ],
          "name": "stdout"
        }
      ]
    },
    {
      "cell_type": "code",
      "metadata": {
        "id": "iGw9NfvJLL5Z",
        "colab_type": "code",
        "colab": {
          "base_uri": "https://localhost:8080/",
          "height": 279
        },
        "outputId": "8ee4df78-9b30-42db-eb1f-c03d2a33a0f8"
      },
      "source": [
        "import matplotlib.pyplot as plt\n",
        "acc=history.history['acc']\n",
        "val_acc=history.history['val_acc']\n",
        "loss=history.history['loss']\n",
        "val_loss=history.history['val_loss']\n",
        "\n",
        "epochs=range(1,len(acc)+1)\n",
        "\n",
        "plt.plot(epochs,acc,'b',label='Train_acc')\n",
        "plt.plot(epochs,val_acc,'g',label='Val_acc')\n",
        "plt.xlabel('Epochs')\n",
        "plt.ylabel('Accuracy')\n",
        "\n",
        "plt.show()"
      ],
      "execution_count": 38,
      "outputs": [
        {
          "output_type": "display_data",
          "data": {
            "image/png": "[encoded data removed]",
            "text/plain": [
              "<Figure size 432x288 with 1 Axes>"
            ]
          },
          "metadata": {
            "tags": []
          }
        }
      ]
    },
    {
      "cell_type": "code",
      "metadata": {
        "id": "RxBzPduhLO3R",
        "colab_type": "code",
        "colab": {
          "base_uri": "https://localhost:8080/",
          "height": 52
        },
        "outputId": "f4c69caf-070a-4877-9dfd-52a24871fd0b"
      },
      "source": [
        "model.evaluate(X_test,Y_test)"
      ],
      "execution_count": 39,
      "outputs": [
        {
          "output_type": "stream",
          "text": [
            "10000/10000 [==============================] - 1s 143us/step\n"
          ],
          "name": "stdout"
        },
        {
          "output_type": "execute_result",
          "data": {
            "text/plain": [
              "[0.05891113919615745, 0.9942]"
            ]
          },
          "metadata": {
            "tags": []
          },
          "execution_count": 39
        }
      ]
    },
    {
      "cell_type": "markdown",
      "metadata": {
        "id": "F3_UkC9g97Z8",
        "colab_type": "text"
      },
      "source": [
        "\n",
        "\n",
        "As we are going to use regularizer, i thought of checking out with different Learning Rates and 0.04 gave me the best value. So i stuck with it...\n",
        "\n",
        "Next part is introducing truncated initializer..which according to the keras documentation performs better on weights and filters..generally nature follows bell curve distribution..so went for this...\n",
        "\n",
        "then started to play with l1 regularizer value...from previous experience i used 3 values for regularizers 0.00005,0.00001,0.0001(99.38,99.34,99.33 val_acc). 0.00005 is in between the other values and its obtained val_acc is greatest among the 3 l1 values , hence its kind of peaking. so better to stay with that.\n",
        "\n",
        "for all these values, val_acc,train_acc plots in (epochs and acc) the curves appear to be smooth for the last 7-8 epochs.\n",
        "\n",
        "now the redifining and better using Learning rate scheduler to explore the local minimas exposed by the regularizer.\n",
        "\n",
        "for the last 10 epochs,decrement of by 10 (lr*0.1) to the learning rate scheduler already provided is done.\n",
        "\n",
        "this leads to the exploration of only one minima which may or may not contain the required minima.\n",
        "\n",
        "hence to give the model a chance to better the exploration, i have taken 3 batches of epochs of size 4 ([7,8,9,10],[12,13,14,15],[17,18,19]) and then applied learning rate as obtained above. but for the left over values i have not decremnted by 10 meaning, the value as it is provided by the previous scheduler is taken. this will make the model to explore 3 neighborhood of minimas giving it a better chance to find the best weights\n",
        "\n",
        "this has given consistent values..of val_acc over 99.4 in epochs 11 to 20...\n",
        " \n",
        "this can be observed in logs..."
      ]
    }
  ]
}